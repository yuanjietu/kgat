{
 "cells": [
  {
   "cell_type": "markdown",
   "id": "bb333a85",
   "metadata": {},
   "source": [
    "# Updated KGAT Model with Training, Validation, and Testing\n",
    "This notebook implements the KGAT model with training, validation, and testing datasets, and plots the loss curves for both training and validation sets."
   ]
  },
  {
   "cell_type": "markdown",
   "id": "0c57f06f",
   "metadata": {},
   "source": [
    "## Data Loading and Preprocessing"
   ]
  },
  {
   "cell_type": "code",
   "execution_count": 1,
   "id": "96702f60",
   "metadata": {},
   "outputs": [
    {
     "name": "stdout",
     "output_type": "stream",
     "text": [
      "Training size: 61735, Validation size: 20579, Testing size: 20579\n"
     ]
    }
   ],
   "source": [
    "import pandas as pd\n",
    "import torch\n",
    "from sklearn.model_selection import train_test_split\n",
    "import matplotlib.pyplot as plt\n",
    "\n",
    "# Load the knowledge graph CSV\n",
    "kg_df = pd.read_csv('knowledge_graph_movies.csv')\n",
    "\n",
    "# Ensure the 'head', 'relation', and 'tail' columns are of categorical type\n",
    "kg_df['head'] = kg_df['head'].astype('category')\n",
    "kg_df['relation'] = kg_df['relation'].astype('category')\n",
    "kg_df['tail'] = kg_df['tail'].astype('category')\n",
    "\n",
    "# Convert entities and relations to categorical codes\n",
    "head_codes = kg_df['head'].cat.codes\n",
    "relation_codes = kg_df['relation'].cat.codes\n",
    "tail_codes = kg_df['tail'].cat.codes\n",
    "\n",
    "# Extract relevant tensors for KGAT\n",
    "heads = torch.tensor(head_codes.values, dtype=torch.long)\n",
    "relations = torch.tensor(relation_codes.values, dtype=torch.long)\n",
    "tails = torch.tensor(tail_codes.values, dtype=torch.long)\n",
    "\n",
    "# Split the data into training, validation, and testing datasets\n",
    "heads_train, heads_temp, relations_train, relations_temp, tails_train, tails_temp = train_test_split(\n",
    "    heads, relations, tails, test_size=0.4, random_state=42)\n",
    "\n",
    "heads_val, heads_test, relations_val, relations_test, tails_val, tails_test = train_test_split(\n",
    "    heads_temp, relations_temp, tails_temp, test_size=0.5, random_state=42)\n",
    "\n",
    "# Check the size of each split\n",
    "print(f\"Training size: {len(heads_train)}, Validation size: {len(heads_val)}, Testing size: {len(heads_test)}\")"
   ]
  },
  {
   "cell_type": "code",
   "execution_count": 2,
   "id": "9fc2dab7",
   "metadata": {},
   "outputs": [
    {
     "name": "stdout",
     "output_type": "stream",
     "text": [
      "Percentage of 1s: 97.24%\n"
     ]
    }
   ],
   "source": [
    "def percentage_of_ones(tensor):\n",
    "    # Count the number of 1s\n",
    "    num_ones = torch.sum(tensor == 1).item()\n",
    "    \n",
    "    # Calculate the total number of elements\n",
    "    total_elements = tensor.numel()\n",
    "    \n",
    "    # Calculate the percentage of 1s\n",
    "    percentage = (num_ones / total_elements) * 100\n",
    "    \n",
    "    return percentage\n",
    "\n",
    "# Example usage\n",
    "percentage = percentage_of_ones(relations_test)\n",
    "print(f\"Percentage of 1s: {percentage:.2f}%\")"
   ]
  },
  {
   "cell_type": "code",
   "execution_count": 3,
   "id": "2ed95c84",
   "metadata": {},
   "outputs": [],
   "source": [
    "def create_batches(heads, relations, tails, batch_size):\n",
    "    num_batches = len(heads) // batch_size\n",
    "    for i in range(num_batches):\n",
    "        yield (heads[i * batch_size:(i + 1) * batch_size],\n",
    "               relations[i * batch_size:(i + 1) * batch_size],\n",
    "               tails[i * batch_size:(i + 1) * batch_size])\n",
    "    \n",
    "    if len(heads) % batch_size != 0:\n",
    "        yield (heads[num_batches * batch_size:],\n",
    "               relations[num_batches * batch_size:],\n",
    "               tails[num_batches * batch_size:])"
   ]
  },
  {
   "cell_type": "markdown",
   "id": "09b1b40d",
   "metadata": {},
   "source": [
    "## Simplified KGAT Model"
   ]
  },
  {
   "cell_type": "code",
   "execution_count": 4,
   "id": "f6574675",
   "metadata": {},
   "outputs": [],
   "source": [
    "import torch.nn as nn\n",
    "\n",
    "class SimplifiedKGAT(nn.Module):\n",
    "    def __init__(self, num_entities, num_relations, embedding_dim):\n",
    "        super(SimplifiedKGAT, self).__init__()\n",
    "        self.entity_embedding = nn.Embedding(num_entities, embedding_dim)\n",
    "        self.relation_embedding = nn.Embedding(num_relations, embedding_dim)\n",
    "        self.linear = nn.Linear(embedding_dim, embedding_dim)  # Simplified linear layer\n",
    "        self.attention = nn.Linear(embedding_dim * 2, 1)  # Attention mechanism\n",
    "\n",
    "    def forward(self, heads, relations, tails, negative_tails=None):\n",
    "        head_emb = self.entity_embedding(heads)\n",
    "        relation_emb = self.relation_embedding(relations)\n",
    "        tail_emb = self.entity_embedding(tails)\n",
    "        \n",
    "        # Compute scores for positive samples\n",
    "        pos_score = self.calculate_score(head_emb, relation_emb, tail_emb)\n",
    "\n",
    "        if negative_tails is not None:\n",
    "            negative_tail_emb = self.entity_embedding(negative_tails)\n",
    "            # Compute scores for negative samples\n",
    "            neg_score = self.calculate_score(head_emb, relation_emb, negative_tail_emb)\n",
    "            return pos_score, neg_score\n",
    "\n",
    "        return pos_score\n",
    "\n",
    "    def calculate_score(self, head_emb, relation_emb, tail_emb):\n",
    "        # Concatenate head and relation embeddings\n",
    "        combined = torch.cat([head_emb, relation_emb], dim=-1)\n",
    "        \n",
    "        # Attention mechanism: Compute attention weights\n",
    "        attention_weights = torch.sigmoid(self.attention(combined))\n",
    "        \n",
    "        # Apply attention to head and relation embeddings\n",
    "        x = attention_weights * head_emb + (1 - attention_weights) * relation_emb\n",
    "        \n",
    "        # Pass through linear layer and activation\n",
    "        x = self.linear(x)\n",
    "        x = torch.relu(x)\n",
    "        \n",
    "        # Compute the score with the tail embedding\n",
    "        score = torch.sum(x * tail_emb, dim=-1)  # Dot product as a score\n",
    "        return score\n"
   ]
  },
  {
   "cell_type": "markdown",
   "id": "cc393257",
   "metadata": {},
   "source": [
    "#### Integerate MarginRankingLoss"
   ]
  },
  {
   "cell_type": "code",
   "execution_count": 107,
   "id": "ea29f2b3",
   "metadata": {},
   "outputs": [],
   "source": [
    "import torch.nn.functional as F\n",
    "\n",
    "class MarginRankingLoss(nn.Module):\n",
    "    def __init__(self, margin=1.0):\n",
    "        super(MarginRankingLoss, self).__init__()\n",
    "        self.margin = margin\n",
    "\n",
    "    def forward(self, pos_score, neg_score):\n",
    "        # Margin-based ranking loss\n",
    "        loss = F.relu(self.margin - pos_score + neg_score).mean()\n",
    "        return loss"
   ]
  },
  {
   "cell_type": "markdown",
   "id": "006464bf",
   "metadata": {},
   "source": [
    "## Model Training with Validation"
   ]
  },
  {
   "cell_type": "code",
   "execution_count": 112,
   "id": "2dbe9664",
   "metadata": {},
   "outputs": [
    {
     "name": "stdout",
     "output_type": "stream",
     "text": [
      "Epoch 1, Train Loss: 0.6950, Val Loss: 0.6838\n",
      "Epoch 2, Train Loss: 0.6681, Val Loss: 0.6458\n",
      "Epoch 3, Train Loss: 0.6005, Val Loss: 0.5485\n",
      "Epoch 4, Train Loss: 0.4891, Val Loss: 0.4333\n",
      "Epoch 5, Train Loss: 0.3798, Val Loss: 0.3348\n",
      "Epoch 6, Train Loss: 0.2919, Val Loss: 0.2585\n",
      "Epoch 7, Train Loss: 0.2248, Val Loss: 0.2006\n",
      "Epoch 8, Train Loss: 0.1741, Val Loss: 0.1568\n",
      "Epoch 9, Train Loss: 0.1362, Val Loss: 0.1244\n",
      "Epoch 10, Train Loss: 0.1086, Val Loss: 0.1007\n",
      "Epoch 11, Train Loss: 0.0885, Val Loss: 0.0835\n",
      "Epoch 12, Train Loss: 0.0736, Val Loss: 0.0706\n",
      "Epoch 13, Train Loss: 0.0623, Val Loss: 0.0607\n",
      "Epoch 14, Train Loss: 0.0534, Val Loss: 0.0529\n",
      "Epoch 15, Train Loss: 0.0462, Val Loss: 0.0466\n",
      "Epoch 16, Train Loss: 0.0402, Val Loss: 0.0414\n",
      "Epoch 17, Train Loss: 0.0352, Val Loss: 0.0371\n",
      "Epoch 18, Train Loss: 0.0310, Val Loss: 0.0335\n",
      "Epoch 19, Train Loss: 0.0274, Val Loss: 0.0304\n",
      "Epoch 20, Train Loss: 0.0243, Val Loss: 0.0277\n"
     ]
    }
   ],
   "source": [
    "# Instantiate the simplified model\n",
    "embedding_dim = 8  # Adjust as necessary\n",
    "num_entities = len(kg_df['head'].cat.categories) + len(kg_df['tail'].cat.categories)\n",
    "num_relations = len(kg_df['relation'].cat.categories)\n",
    "kgat_model = SimplifiedKGAT(num_entities, num_relations, embedding_dim)\n",
    "\n",
    "def train_kgat_with_validation(model, heads_train, relations_train, tails_train, \n",
    "                               heads_val, relations_val, tails_val, \n",
    "                               epochs=10, batch_size=512, lr=0.001):\n",
    "    optimizer = torch.optim.Adam(model.parameters(), lr=lr)\n",
    "    criterion = nn.BCEWithLogitsLoss()\n",
    "    train_loss_values = []\n",
    "    val_loss_values = []\n",
    "\n",
    "    for epoch in range(epochs):\n",
    "        model.train()\n",
    "        train_batch_losses = []\n",
    "        for batch_heads, batch_relations, batch_tails in create_batches(heads_train, relations_train, tails_train, batch_size):\n",
    "            optimizer.zero_grad()\n",
    "\n",
    "            # Forward pass\n",
    "            out = model(batch_heads, batch_relations, batch_tails)\n",
    "\n",
    "            # Ensure out is at least 2D\n",
    "            if out.dim() == 1:\n",
    "                out = out.unsqueeze(-1)\n",
    "\n",
    "            # Compute loss with dummy labels\n",
    "            labels = torch.ones_like(out)\n",
    "            loss = criterion(out, labels)\n",
    "\n",
    "            loss.backward()\n",
    "            optimizer.step()\n",
    "\n",
    "            train_batch_losses.append(loss.item())\n",
    "\n",
    "        # Store the average loss for this epoch\n",
    "        avg_train_loss = sum(train_batch_losses) / len(train_batch_losses)\n",
    "        train_loss_values.append(avg_train_loss)\n",
    "\n",
    "        # Validation phase\n",
    "        model.eval()\n",
    "        with torch.no_grad():\n",
    "            val_batch_losses = []\n",
    "            for batch_heads, batch_relations, batch_tails in create_batches(heads_val, relations_val, tails_val, batch_size):\n",
    "                out = model(batch_heads, batch_relations, batch_tails)\n",
    "                \n",
    "                # Ensure out is at least 2D\n",
    "                if out.dim() == 1:\n",
    "                    out = out.unsqueeze(-1)\n",
    "                \n",
    "                labels = torch.ones_like(out)\n",
    "                loss = criterion(out, labels)\n",
    "                val_batch_losses.append(loss.item())\n",
    "\n",
    "        avg_val_loss = sum(val_batch_losses) / len(val_batch_losses)\n",
    "        val_loss_values.append(avg_val_loss)\n",
    "\n",
    "        if (epoch + 1) % 1 == 0:\n",
    "            print(f'Epoch {epoch + 1}, Train Loss: {avg_train_loss:.4f}, Val Loss: {avg_val_loss:.4f}')\n",
    "\n",
    "    return train_loss_values, val_loss_values\n",
    "\n",
    "# Train the model with training and validation loss tracking\n",
    "train_loss_values, val_loss_values = train_kgat_with_validation(\n",
    "    kgat_model, heads_train, relations_train, tails_train,\n",
    "    heads_val, relations_val, tails_val, epochs=20, batch_size=256)"
   ]
  },
  {
   "cell_type": "code",
   "execution_count": 113,
   "id": "3c1c6512",
   "metadata": {},
   "outputs": [],
   "source": [
    "def plot_loss_curve(train_loss_values, val_loss_values):\n",
    "    # Plot the training and validation loss curves\n",
    "    plt.plot(train_loss_values, label='Training Loss')\n",
    "    plt.plot(val_loss_values, label='Validation Loss')\n",
    "    plt.xlabel('Epoch')\n",
    "    plt.ylabel('Loss')\n",
    "    plt.title('Training and Validation Loss Curve')\n",
    "    plt.legend()\n",
    "    plt.show()"
   ]
  },
  {
   "cell_type": "code",
   "execution_count": 114,
   "id": "3a56821f",
   "metadata": {},
   "outputs": [
    {
     "data": {
      "image/png": "[encoded data removed]",
      "text/plain": [
       "<Figure size 640x480 with 1 Axes>"
      ]
     },
     "metadata": {},
     "output_type": "display_data"
    }
   ],
   "source": [
    "# Plot the loss curves\n",
    "plot_loss_curve(train_loss_values, val_loss_values)"
   ]
  },
  {
   "cell_type": "code",
   "execution_count": 18,
   "id": "81b3073b",
   "metadata": {},
   "outputs": [],
   "source": [
    "def predict(model, heads, relations, tails, k=10):\n",
    "    model.eval()\n",
    "    with torch.no_grad():\n",
    "        num_entities = model.entity_embedding.num_embeddings\n",
    "        all_tails = torch.arange(num_entities, device=heads.device)\n",
    "        \n",
    "        scores = []\n",
    "        for head, relation in zip(heads, relations):\n",
    "            head = head.unsqueeze(0).repeat(num_entities)\n",
    "            relation = relation.unsqueeze(0).repeat(num_entities)\n",
    "            score = model(head, relation, all_tails)\n",
    "            scores.append(score)\n",
    "        \n",
    "        scores = torch.stack(scores, dim=0)\n",
    "        _, top_k_indices = torch.topk(scores, k, dim=1)\n",
    "        \n",
    "    return scores, top_k_indices"
   ]
  },
  {
   "cell_type": "code",
   "execution_count": 36,
   "id": "d8aecc70",
   "metadata": {},
   "outputs": [],
   "source": [
    "import numpy as np"
   ]
  },
  {
   "cell_type": "code",
   "execution_count": 37,
   "id": "cfd96650",
   "metadata": {},
   "outputs": [],
   "source": [
    "def evaluate(model, heads, relations, tails, k=10):\n",
    "    model.eval()\n",
    "    hr, ndcg = [], []\n",
    "\n",
    "    with torch.no_grad():\n",
    "        scores, top_k_indices = predict(model, heads, relations, tails, k)\n",
    "        \n",
    "        for i in range(len(heads)):\n",
    "            tail = tails[i]\n",
    "            top_k = top_k_indices[i]\n",
    "            \n",
    "            if tail in top_k:\n",
    "                hr.append(1)\n",
    "                rank_indices = (top_k == tail).nonzero(as_tuple=True)[0]\n",
    "                if len(rank_indices) > 0:  # Check if there is at least one match\n",
    "                    rank = rank_indices[0].item()  # Take the first occurrence\n",
    "                    ndcg.append(1.0 / np.log2(rank + 2))\n",
    "                else:\n",
    "                    ndcg.append(0)\n",
    "            else:\n",
    "                hr.append(0)\n",
    "                ndcg.append(0)\n",
    "    \n",
    "    mean_hr = np.mean(hr)\n",
    "    mean_ndcg = np.mean(ndcg)\n",
    "    \n",
    "    return mean_hr, mean_ndcg\n"
   ]
  },
  {
   "cell_type": "code",
   "execution_count": 44,
   "id": "3e4fa2d1",
   "metadata": {},
   "outputs": [],
   "source": [
    "def custom_inspect_predictions(model, heads, relations, tails, k=10):\n",
    "    scores, top_k_indices = predict(model, heads, relations, tails, k)\n",
    "    \n",
    "    for i in range(min(5, len(heads))):  # Inspect the first 5 samples\n",
    "        print(f\"User {i+1}:\")\n",
    "        print(f\"  Actual Item: {tails[i].item()}\")\n",
    "        print(f\"  Top-{k} Predictions: {top_k_indices[i].cpu().numpy().tolist()}\")\n",
    "        print(f\"  Scores: {scores[i][top_k_indices[i]].cpu().numpy().tolist()}\")\n",
    "        print(\"-\" * 50)\n"
   ]
  },
  {
   "cell_type": "code",
   "execution_count": 19,
   "id": "4acc6fab",
   "metadata": {},
   "outputs": [],
   "source": [
    "scores, top_k_predictions = predict(kgat_model, heads_test, relations_test, tails_test, k=10)"
   ]
  },
  {
   "cell_type": "code",
   "execution_count": 65,
   "id": "773bc180",
   "metadata": {},
   "outputs": [
    {
     "name": "stdout",
     "output_type": "stream",
     "text": [
      "Mean HR@20: 0.10345497837601439\n",
      "Mean NDCG@20: 0.04051105562687961\n"
     ]
    }
   ],
   "source": [
    "k = 20\n",
    "\n",
    "mean_hr, mean_ndcg = evaluate(kgat_model, heads_test, relations_test, tails_test, k)\n",
    "print(f\"Mean HR@{k}: {mean_hr}\")\n",
    "print(f\"Mean NDCG@{k}: {mean_ndcg}\")"
   ]
  },
  {
   "cell_type": "code",
   "execution_count": 56,
   "id": "b8fafb21",
   "metadata": {},
   "outputs": [
    {
     "name": "stdout",
     "output_type": "stream",
     "text": [
      "User 1:\n",
      "  Actual Item: 1\n",
      "  Top-10 Predictions: [540, 4, 7, 1133, 759, 1, 0, 63, 5, 3]\n",
      "  Scores: [9.601744651794434, 9.422332763671875, 8.773859024047852, 8.713765144348145, 8.687373161315918, 8.67309284210205, 8.191333770751953, 8.11245346069336, 8.10355281829834, 7.964412689208984]\n",
      "--------------------------------------------------\n",
      "User 2:\n",
      "  Actual Item: 804\n",
      "  Top-10 Predictions: [1146, 908, 917, 877, 910, 1367, 897, 253, 1678, 807]\n",
      "  Scores: [3.51345157623291, 3.431138038635254, 3.4048678874969482, 3.3303723335266113, 3.3254547119140625, 3.3151674270629883, 3.2851593494415283, 3.276028633117676, 3.267214298248291, 3.2601921558380127]\n",
      "--------------------------------------------------\n",
      "User 3:\n",
      "  Actual Item: 948\n",
      "  Top-10 Predictions: [1146, 908, 877, 910, 917, 1367, 1678, 20, 319, 253]\n",
      "  Scores: [2.970454216003418, 2.9085988998413086, 2.881974458694458, 2.8283464908599854, 2.824836254119873, 2.799471855163574, 2.7947168350219727, 2.765075445175171, 2.7630057334899902, 2.7483768463134766]\n",
      "--------------------------------------------------\n",
      "User 4:\n",
      "  Actual Item: 807\n",
      "  Top-10 Predictions: [1146, 908, 877, 917, 910, 1367, 1678, 319, 20, 253]\n",
      "  Scores: [3.469170570373535, 3.400691032409668, 3.348752975463867, 3.3143978118896484, 3.295811414718628, 3.263754367828369, 3.2565813064575195, 3.223026752471924, 3.2178549766540527, 3.216526508331299]\n",
      "--------------------------------------------------\n",
      "User 5:\n",
      "  Actual Item: 783\n",
      "  Top-10 Predictions: [1146, 877, 908, 910, 1678, 20, 1367, 18, 784, 319]\n",
      "  Scores: [3.320145606994629, 3.3033711910247803, 3.2605273723602295, 3.1821932792663574, 3.1638925075531006, 3.1285839080810547, 3.124969005584717, 3.1047720909118652, 3.1037869453430176, 3.0979163646698]\n",
      "--------------------------------------------------\n"
     ]
    }
   ],
   "source": [
    "custom_inspect_predictions(kgat_model, heads_test, relations_test, tails_test, k)"
   ]
  },
  {
   "cell_type": "code",
   "execution_count": 72,
   "id": "b2ca55db",
   "metadata": {},
   "outputs": [
    {
     "name": "stdout",
     "output_type": "stream",
     "text": [
      "Training HR@20: 0.1046\n",
      "Training NDCG@20: 0.0416\n"
     ]
    }
   ],
   "source": [
    "# Assuming you have already defined the following:\n",
    "# heads_train, relations_train, tails_train -> Training dataset\n",
    "# heads_val, relations_val, tails_val -> Validation dataset\n",
    "# k -> The value of k used for evaluation\n",
    "\n",
    "# Evaluate on the Training Dataset\n",
    "train_hr, train_ndcg = evaluate(kgat_model, heads_train, relations_train, tails_train, k=k)\n",
    "print(f\"Training HR@{k}: {train_hr:.4f}\")\n",
    "print(f\"Training NDCG@{k}: {train_ndcg:.4f}\")"
   ]
  },
  {
   "cell_type": "code",
   "execution_count": 67,
   "id": "9ed1c059",
   "metadata": {},
   "outputs": [
    {
     "name": "stdout",
     "output_type": "stream",
     "text": [
      "User 1:\n",
      "  Actual Item: 1033\n",
      "  Top-20 Predictions: [1146, 908, 877, 910, 917, 1367, 1678, 20, 319, 253, 792, 1212, 838, 18, 1467, 807, 782, 784, 1578, 897]\n",
      "  Scores: [3.6349291801452637, 3.550260543823242, 3.5220212936401367, 3.4643359184265137, 3.458406448364258, 3.4355931282043457, 3.416128158569336, 3.386686086654663, 3.383267879486084, 3.3628807067871094, 3.3624935150146484, 3.335587501525879, 3.3068008422851562, 3.301109790802002, 3.3010854721069336, 3.300210952758789, 3.2917699813842773, 3.2904887199401855, 3.2839088439941406, 3.272402286529541]\n",
      "--------------------------------------------------\n",
      "User 2:\n",
      "  Actual Item: 818\n",
      "  Top-20 Predictions: [1146, 917, 1367, 908, 910, 792, 897, 253, 1467, 319, 877, 1212, 20, 782, 825, 1678, 807, 1061, 1041, 925]\n",
      "  Scores: [3.2089293003082275, 3.146122932434082, 3.10410737991333, 3.0624663829803467, 3.0547683238983154, 3.0137033462524414, 3.01314115524292, 2.9992856979370117, 2.9933953285217285, 2.989582061767578, 2.9774134159088135, 2.975503921508789, 2.963702917098999, 2.9435548782348633, 2.942765235900879, 2.9413504600524902, 2.917649269104004, 2.910820484161377, 2.8988053798675537, 2.862679958343506]\n",
      "--------------------------------------------------\n",
      "User 3:\n",
      "  Actual Item: 792\n",
      "  Top-20 Predictions: [1146, 908, 877, 917, 910, 1367, 1678, 20, 319, 253, 792, 1212, 807, 1467, 838, 18, 782, 897, 784, 1578]\n",
      "  Scores: [3.643232822418213, 3.5586445331573486, 3.5242276191711426, 3.471283435821533, 3.470259666442871, 3.4426417350769043, 3.4212427139282227, 3.3911328315734863, 3.390002965927124, 3.372645378112793, 3.366546630859375, 3.3432135581970215, 3.3138315677642822, 3.3113574981689453, 3.3087642192840576, 3.301978588104248, 3.297323226928711, 3.2899322509765625, 3.2889468669891357, 3.2885541915893555]\n",
      "--------------------------------------------------\n",
      "User 4:\n",
      "  Actual Item: 253\n",
      "  Top-20 Predictions: [1146, 877, 908, 910, 1367, 917, 1678, 20, 319, 792, 253, 1212, 784, 838, 18, 782, 1578, 1467, 927, 807]\n",
      "  Scores: [3.603073835372925, 3.517380714416504, 3.5164217948913574, 3.443706512451172, 3.41078782081604, 3.4053773880004883, 3.398005247116089, 3.372706890106201, 3.3585658073425293, 3.3517603874206543, 3.3237409591674805, 3.306917190551758, 3.3047873973846436, 3.3041319847106934, 3.302772045135498, 3.273326873779297, 3.265721321105957, 3.2602267265319824, 3.257659435272217, 3.241422653198242]\n",
      "--------------------------------------------------\n",
      "User 5:\n",
      "  Actual Item: 1234\n",
      "  Top-20 Predictions: [1146, 908, 877, 910, 917, 1367, 1678, 20, 319, 792, 253, 1212, 1467, 838, 782, 807, 18, 784, 897, 1578]\n",
      "  Scores: [3.717306613922119, 3.6230642795562744, 3.592647075653076, 3.544008493423462, 3.542612075805664, 3.521454334259033, 3.4878909587860107, 3.463261842727661, 3.4609994888305664, 3.44618821144104, 3.440659284591675, 3.414377212524414, 3.3820157051086426, 3.379441976547241, 3.3717832565307617, 3.3707618713378906, 3.3688106536865234, 3.3640637397766113, 3.35172700881958, 3.3417224884033203]\n",
      "--------------------------------------------------\n"
     ]
    }
   ],
   "source": [
    "custom_inspect_predictions(kgat_model, heads_train, relations_train, tails_train, k)"
   ]
  },
  {
   "cell_type": "markdown",
   "id": "b60c5f4e",
   "metadata": {},
   "source": [
    "## Conclusion\n",
    "This notebook combines the key steps of data loading, model training, validation, and evaluation for the KGAT model."
   ]
  }
 ],
 "metadata": {
  "kernelspec": {
   "display_name": "Python 3",
   "language": "python",
   "name": "python3"
  },
  "language_info": {
   "codemirror_mode": {
    "name": "ipython",
    "version": 3
   },
   "file_extension": ".py",
   "mimetype": "text/x-python",
   "name": "python",
   "nbconvert_exporter": "python",
   "pygments_lexer": "ipython3",
   "version": "3.10.10"
  }
 },
 "nbformat": 4,
 "nbformat_minor": 5
}
