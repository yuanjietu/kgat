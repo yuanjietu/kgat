{
 "cells": [
  {
   "cell_type": "markdown",
   "metadata": {},
   "source": [
    "#### Step 1: Load the Data Files"
   ]
  },
  {
   "cell_type": "code",
   "execution_count": 47,
   "metadata": {},
   "outputs": [],
   "source": [
    "import pandas as pd\n",
    "\n",
    "def load_movielens_data(data_folder):\n",
    "    \"\"\"\n",
    "    Load MovieLens data from a specified folder (either 'ml-100k' or 'ml-1m').\n",
    "    \n",
    "    Args:\n",
    "        data_folder (str): The folder name where the MovieLens data is located ('ml-100k' or 'ml-1m').\n",
    "    \n",
    "    Returns:\n",
    "        tuple: A tuple containing DataFrames for ratings, movies, users, and genres.\n",
    "    \"\"\"\n",
    "    # Define file paths based on the data folder\n",
    "    ratings_file = f'{data_folder}/u.data' if data_folder == 'ml-100k' else f'{data_folder}/ratings.dat'\n",
    "    movies_file = f'{data_folder}/u.item' if data_folder == 'ml-100k' else f'{data_folder}/movies.dat'\n",
    "    users_file = f'{data_folder}/u.user' if data_folder == 'ml-100k' else f'{data_folder}/users.dat'\n",
    "    genres_file = f'{data_folder}/u.genre' if data_folder == 'ml-100k' else None\n",
    "    \n",
    "    # Load ratings data\n",
    "    if data_folder == 'ml-100k':\n",
    "        ratings = pd.read_csv(ratings_file, sep='\\t', names=['user_id', 'item_id', 'rating', 'timestamp'])\n",
    "    else:\n",
    "        ratings = pd.read_csv(ratings_file, sep='::', names=['user_id', 'item_id', 'rating', 'timestamp'], engine='python')\n",
    "    \n",
    "    # Load movies data\n",
    "    if data_folder == 'ml-100k':\n",
    "        movies = pd.read_csv(movies_file, sep='|', names=['item_id', 'movie_title', 'release_date', 'video_release_date', \n",
    "                                                          'IMDb_URL', 'unknown', 'Action', 'Adventure', 'Animation', \n",
    "                                                          'Children\\'s', 'Comedy', 'Crime', 'Documentary', 'Drama', \n",
    "                                                          'Fantasy', 'Film-Noir', 'Horror', 'Musical', 'Mystery', \n",
    "                                                          'Romance', 'Sci-Fi', 'Thriller', 'War', 'Western'], \n",
    "                             encoding='latin-1')\n",
    "    else:\n",
    "        movies = pd.read_csv(movies_file, sep='::', names=['item_id', 'movie_title', 'genres'], engine='python', encoding='latin-1')\n",
    "    \n",
    "    # Load users data\n",
    "    if data_folder == 'ml-100k':\n",
    "        users = pd.read_csv(users_file, sep='|', names=['user_id', 'age', 'gender', 'occupation', 'zip_code'])\n",
    "    else:\n",
    "        users = pd.read_csv(users_file, sep='::', names=['user_id', 'gender', 'age', 'occupation', 'zip_code'], engine='python')\n",
    "    \n",
    "    # Load genres data (only applicable to ml-100k)\n",
    "    if data_folder == 'ml-100k':\n",
    "        genres = pd.read_csv(genres_file, sep='|', names=['genre', 'genre_id'], usecols=[0], encoding='latin-1')\n",
    "    else:\n",
    "        genres = None\n",
    "    \n",
    "    return ratings, movies, users, genres\n"
   ]
  },
  {
   "cell_type": "code",
   "execution_count": 48,
   "metadata": {},
   "outputs": [
    {
     "name": "stdout",
     "output_type": "stream",
     "text": [
      "   user_id  item_id  rating  timestamp\n",
      "0      196      242       3  881250949\n",
      "1      186      302       3  891717742\n",
      "2       22      377       1  878887116\n",
      "3      244       51       2  880606923\n",
      "4      166      346       1  886397596\n",
      "   item_id        movie_title release_date  video_release_date  \\\n",
      "0        1   Toy Story (1995)  01-Jan-1995                 NaN   \n",
      "1        2   GoldenEye (1995)  01-Jan-1995                 NaN   \n",
      "2        3  Four Rooms (1995)  01-Jan-1995                 NaN   \n",
      "3        4  Get Shorty (1995)  01-Jan-1995                 NaN   \n",
      "4        5     Copycat (1995)  01-Jan-1995                 NaN   \n",
      "\n",
      "                                            IMDb_URL  unknown  Action  \\\n",
      "0  http://us.imdb.com/M/title-exact?Toy%20Story%2...        0       0   \n",
      "1  http://us.imdb.com/M/title-exact?GoldenEye%20(...        0       1   \n",
      "2  http://us.imdb.com/M/title-exact?Four%20Rooms%...        0       0   \n",
      "3  http://us.imdb.com/M/title-exact?Get%20Shorty%...        0       1   \n",
      "4  http://us.imdb.com/M/title-exact?Copycat%20(1995)        0       0   \n",
      "\n",
      "   Adventure  Animation  Children's  ...  Fantasy  Film-Noir  Horror  Musical  \\\n",
      "0          0          1           1  ...        0          0       0        0   \n",
      "1          1          0           0  ...        0          0       0        0   \n",
      "2          0          0           0  ...        0          0       0        0   \n",
      "3          0          0           0  ...        0          0       0        0   \n",
      "4          0          0           0  ...        0          0       0        0   \n",
      "\n",
      "   Mystery  Romance  Sci-Fi  Thriller  War  Western  \n",
      "0        0        0       0         0    0        0  \n",
      "1        0        0       0         1    0        0  \n",
      "2        0        0       0         1    0        0  \n",
      "3        0        0       0         0    0        0  \n",
      "4        0        0       0         1    0        0  \n",
      "\n",
      "[5 rows x 24 columns]\n",
      "   user_id  age gender  occupation zip_code\n",
      "0        1   24      M  technician    85711\n",
      "1        2   53      F       other    94043\n",
      "2        3   23      M      writer    32067\n",
      "3        4   24      M  technician    43537\n",
      "4        5   33      F       other    15213\n",
      "        genre\n",
      "0     unknown\n",
      "1      Action\n",
      "2   Adventure\n",
      "3   Animation\n",
      "4  Children's\n"
     ]
    }
   ],
   "source": [
    "# Example usage:\n",
    "ratings, movies, users, genres = load_movielens_data('ml-100k')\n",
    "\n",
    "# Display the first few rows of each dataframe to understand the structure\n",
    "print(ratings.head())\n",
    "print(movies.head())\n",
    "print(users.head())\n",
    "if genres is not None:\n",
    "    print(genres.head())"
   ]
  },
  {
   "cell_type": "markdown",
   "metadata": {},
   "source": [
    "#### Step 2: Construct the Knowledge Graph"
   ]
  },
  {
   "cell_type": "code",
   "execution_count": 49,
   "metadata": {},
   "outputs": [],
   "source": [
    "import pandas as pd\n",
    "\n",
    "def extract_kg_relationships_from_loaded_data(ratings, movies, users, genres=None):\n",
    "    \"\"\"\n",
    "    Extract knowledge graph relationships from preloaded MovieLens data.\n",
    "    \n",
    "    Args:\n",
    "        ratings (pd.DataFrame): DataFrame containing user-item interactions.\n",
    "        movies (pd.DataFrame): DataFrame containing movie metadata.\n",
    "        users (pd.DataFrame): DataFrame containing user information.\n",
    "        genres (pd.DataFrame, optional): DataFrame containing genre information (only applicable for 'ml-100k').\n",
    "    \n",
    "    Returns:\n",
    "        pd.DataFrame: A DataFrame containing the knowledge graph triples (head, relation, tail).\n",
    "    \"\"\"\n",
    "    # Initialize an empty list to hold the knowledge graph triples\n",
    "    kg_data = []\n",
    "\n",
    "    # User-Movie Interactions (rated)\n",
    "    for _, row in ratings.iterrows():\n",
    "        kg_data.append((f'user_{row[\"user_id\"]}', 'rated', f'movie_{row[\"item_id\"]}'))\n",
    "\n",
    "    # Movie-Genre Relationship (belongs_to_genre)\n",
    "    if 'genres' in movies.columns:\n",
    "        for _, row in movies.iterrows():\n",
    "            movie_id = f'movie_{row[\"item_id\"]}'\n",
    "            genres_list = row['genres'].split('|')\n",
    "            for genre in genres_list:\n",
    "                kg_data.append((movie_id, 'belongs_to_genre', genre))\n",
    "    elif genres is not None:\n",
    "        for _, row in movies.iterrows():\n",
    "            movie_id = f'movie_{row[\"item_id\"]}'\n",
    "            for genre in genres['genre']:\n",
    "                if row[genre] == 1:\n",
    "                    kg_data.append((movie_id, 'belongs_to_genre', genre))\n",
    "\n",
    "    # User-Age Group Relationship (belongs_to_age_group)\n",
    "    for _, row in users.iterrows():\n",
    "        age_group = 'unknown'\n",
    "        if row['age'] < 18:\n",
    "            age_group = '0-17'\n",
    "        elif row['age'] <= 30:\n",
    "            age_group = '18-30'\n",
    "        elif row['age'] <= 60:\n",
    "            age_group = '31-60'\n",
    "        else:\n",
    "            age_group = '61+'\n",
    "        \n",
    "        kg_data.append((f'user_{row[\"user_id\"]}', 'belongs_to_age_group', age_group))\n",
    "\n",
    "    # User-Occupation Relationship (has_occupation)\n",
    "    for _, row in users.iterrows():\n",
    "        kg_data.append((f'user_{row[\"user_id\"]}', 'has_occupation', row['occupation']))\n",
    "\n",
    "    # User-Gender Relationship (has_gender)\n",
    "    for _, row in users.iterrows():\n",
    "        kg_data.append((f'user_{row[\"user_id\"]}', 'has_gender', row['gender']))\n",
    "\n",
    "    # Movie-Release Year Relationship (released_in)\n",
    "    if 'release_date' in movies.columns:\n",
    "        for _, row in movies.iterrows():\n",
    "            if pd.notnull(row['release_date']):\n",
    "                release_year = row['release_date'].split('-')[-1]\n",
    "                kg_data.append((f'movie_{row[\"item_id\"]}', 'released_in', release_year))\n",
    "    else:\n",
    "        for _, row in movies.iterrows():\n",
    "            if pd.notnull(row['movie_title']):\n",
    "                release_year = row['movie_title'][-5:-1]  # Extract the year from the title (assuming it's in parentheses)\n",
    "                if release_year.isdigit():  # Ensure that it's a valid year\n",
    "                    kg_data.append((f'movie_{row[\"item_id\"]}', 'released_in', release_year))\n",
    "\n",
    "    # Convert the list of triples into a DataFrame\n",
    "    kg_df = pd.DataFrame(kg_data, columns=['head', 'relation', 'tail'])\n",
    "\n",
    "    return kg_df\n",
    "\n"
   ]
  },
  {
   "cell_type": "code",
   "execution_count": 50,
   "metadata": {},
   "outputs": [
    {
     "name": "stdout",
     "output_type": "stream",
     "text": [
      "       head relation       tail\n",
      "0  user_196    rated  movie_242\n",
      "1  user_186    rated  movie_302\n",
      "2   user_22    rated  movie_377\n",
      "3  user_244    rated   movie_51\n",
      "4  user_166    rated  movie_346\n"
     ]
    }
   ],
   "source": [
    "\n",
    "# Example usage:\n",
    "kg_df = extract_kg_relationships_from_loaded_data(ratings, movies, users, genres)\n",
    "print(kg_df.head())"
   ]
  },
  {
   "cell_type": "code",
   "execution_count": 51,
   "metadata": {},
   "outputs": [
    {
     "data": {
      "text/plain": [
       "(107403, 3)"
      ]
     },
     "execution_count": 51,
     "metadata": {},
     "output_type": "execute_result"
    }
   ],
   "source": [
    "kg_df.shape"
   ]
  },
  {
   "cell_type": "code",
   "execution_count": 52,
   "metadata": {},
   "outputs": [],
   "source": [
    "kg_df.drop_duplicates(inplace = True)"
   ]
  },
  {
   "cell_type": "code",
   "execution_count": 53,
   "metadata": {},
   "outputs": [
    {
     "data": {
      "text/plain": [
       "(107403, 3)"
      ]
     },
     "execution_count": 53,
     "metadata": {},
     "output_type": "execute_result"
    }
   ],
   "source": [
    "kg_df.shape"
   ]
  },
  {
   "cell_type": "code",
   "execution_count": 55,
   "metadata": {},
   "outputs": [
    {
     "data": {
      "text/plain": [
       "array(['rated', 'belongs_to_genre', 'belongs_to_age_group',\n",
       "       'has_occupation', 'has_gender', 'released_in'], dtype=object)"
      ]
     },
     "execution_count": 55,
     "metadata": {},
     "output_type": "execute_result"
    }
   ],
   "source": [
    "kg_df['relation'].unique()"
   ]
  },
  {
   "cell_type": "markdown",
   "metadata": {},
   "source": [
    "#### Save KG to csv"
   ]
  },
  {
   "cell_type": "code",
   "execution_count": 54,
   "metadata": {},
   "outputs": [
    {
     "name": "stdout",
     "output_type": "stream",
     "text": [
      "Knowledge graph saved to 'knowledge_graph.csv'\n"
     ]
    }
   ],
   "source": [
    "# Export the knowledge graph DataFrame to a CSV file in the same folder\n",
    "kg_df.to_csv('knowledge_graph_movies_100k.csv', index=False)\n",
    "\n",
    "print(\"Knowledge graph saved to 'knowledge_graph.csv'\")"
   ]
  },
  {
   "cell_type": "code",
   "execution_count": null,
   "metadata": {},
   "outputs": [],
   "source": []
  },
  {
   "cell_type": "code",
   "execution_count": null,
   "metadata": {},
   "outputs": [],
   "source": []
  }
 ],
 "metadata": {
  "kernelspec": {
   "display_name": "Python 3",
   "language": "python",
   "name": "python3"
  },
  "language_info": {
   "codemirror_mode": {
    "name": "ipython",
    "version": 3
   },
   "file_extension": ".py",
   "mimetype": "text/x-python",
   "name": "python",
   "nbconvert_exporter": "python",
   "pygments_lexer": "ipython3",
   "version": "3.10.10"
  },
  "orig_nbformat": 4
 },
 "nbformat": 4,
 "nbformat_minor": 2
}
