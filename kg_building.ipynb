{
 "cells": [
  {
   "cell_type": "markdown",
   "metadata": {},
   "source": [
    "#### Step 1: Load the Data Files"
   ]
  },
  {
   "cell_type": "code",
   "execution_count": null,
   "metadata": {},
   "outputs": [],
   "source": [
    "import pandas as pd\n",
    "\n",
    "# Load u.data (user-item interactions)\n",
    "ratings = pd.read_csv('ml-100k/u.data', sep='\\t', names=['user_id', 'item_id', 'rating', 'timestamp'])\n",
    "\n",
    "# Load u.item (movie metadata)\n",
    "movies = pd.read_csv('ml-100k/u.item', sep='|', names=['item_id', 'movie_title', 'release_date', 'video_release_date', 'IMDb_URL', \n",
    "                                                       'unknown', 'Action', 'Adventure', 'Animation', 'Children\\'s', 'Comedy', \n",
    "                                                       'Crime', 'Documentary', 'Drama', 'Fantasy', 'Film-Noir', 'Horror', \n",
    "                                                       'Musical', 'Mystery', 'Romance', 'Sci-Fi', 'Thriller', 'War', 'Western'], \n",
    "                     encoding='latin-1')\n",
    "\n",
    "# Load u.user (user demographics)\n",
    "users = pd.read_csv('ml-100k/u.user', sep='|', names=['user_id', 'age', 'gender', 'occupation', 'zip_code'])\n",
    "\n",
    "# Load u.genre (genres)\n",
    "genres = pd.read_csv('ml-100k/u.genre', sep='|', names=['genre', 'genre_id'], usecols=[0], encoding='latin-1')\n",
    "\n",
    "# Display the first few rows of each dataframe to understand the structure\n",
    "print(ratings.head())\n",
    "print(movies.head())\n",
    "print(users.head())\n",
    "print(genres.head())"
   ]
  },
  {
   "cell_type": "markdown",
   "metadata": {},
   "source": [
    "#### Step 2: Construct the Knowledge Graph"
   ]
  },
  {
   "cell_type": "code",
   "execution_count": 10,
   "metadata": {},
   "outputs": [
    {
     "name": "stdout",
     "output_type": "stream",
     "text": [
      "       head relation       tail\n",
      "0  user_196    rated  movie_242\n",
      "1  user_186    rated  movie_302\n",
      "2   user_22    rated  movie_377\n",
      "3  user_244    rated   movie_51\n",
      "4  user_166    rated  movie_346\n"
     ]
    }
   ],
   "source": [
    "kg_data = []\n",
    "\n",
    "# Create triples for user-movie interactions (user rated movie)\n",
    "for _, row in ratings.iterrows():\n",
    "    kg_data.append((f'user_{row[\"user_id\"]}', 'rated', f'movie_{row[\"item_id\"]}'))\n",
    "\n",
    "# Create triples for movie-genre relations\n",
    "for _, row in movies.iterrows():\n",
    "    movie_id = f'movie_{row[\"item_id\"]}'\n",
    "    for genre in genres['genre']:\n",
    "        if row[genre] == 1:\n",
    "            kg_data.append((movie_id, 'belongs_to_genre', genre))\n",
    "\n",
    "# Create triples for movie metadata (could add director, actors, etc. if available)\n",
    "# For simplicity, we'll skip this in this example.\n",
    "\n",
    "# Convert the list of triples into a DataFrame\n",
    "kg_df = pd.DataFrame(kg_data, columns=['head', 'relation', 'tail'])\n",
    "\n",
    "# Display the first few rows of the knowledge graph DataFrame\n",
    "print(kg_df.head())\n"
   ]
  },
  {
   "cell_type": "markdown",
   "metadata": {},
   "source": [
    "#### Save KG to csv"
   ]
  },
  {
   "cell_type": "code",
   "execution_count": 11,
   "metadata": {},
   "outputs": [
    {
     "name": "stdout",
     "output_type": "stream",
     "text": [
      "Knowledge graph saved to 'knowledge_graph.csv'\n"
     ]
    }
   ],
   "source": [
    "# Export the knowledge graph DataFrame to a CSV file in the same folder\n",
    "kg_df.to_csv('knowledge_graph_movies.csv', index=False)\n",
    "\n",
    "print(\"Knowledge graph saved to 'knowledge_graph.csv'\")"
   ]
  },
  {
   "cell_type": "code",
   "execution_count": null,
   "metadata": {},
   "outputs": [],
   "source": []
  }
 ],
 "metadata": {
  "kernelspec": {
   "display_name": "Python 3",
   "language": "python",
   "name": "python3"
  },
  "language_info": {
   "codemirror_mode": {
    "name": "ipython",
    "version": 3
   },
   "file_extension": ".py",
   "mimetype": "text/x-python",
   "name": "python",
   "nbconvert_exporter": "python",
   "pygments_lexer": "ipython3",
   "version": "3.10.10"
  },
  "orig_nbformat": 4
 },
 "nbformat": 4,
 "nbformat_minor": 2
}
