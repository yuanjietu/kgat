{
 "cells": [
  {
   "cell_type": "markdown",
   "id": "bb333a85",
   "metadata": {},
   "source": [
    "# Updated KGAT Model with Training, Validation, and Testing\n",
    "This notebook implements the KGAT model with training, validation, and testing datasets, and plots the loss curves for both training and validation sets."
   ]
  },
  {
   "cell_type": "markdown",
   "id": "0c57f06f",
   "metadata": {},
   "source": [
    "## Data Loading and Preprocessing"
   ]
  },
  {
   "cell_type": "code",
   "execution_count": 1,
   "id": "96702f60",
   "metadata": {},
   "outputs": [
    {
     "name": "stdout",
     "output_type": "stream",
     "text": [
      "Training size: 61735, Validation size: 20579, Testing size: 20579\n"
     ]
    }
   ],
   "source": [
    "import pandas as pd\n",
    "import torch\n",
    "from sklearn.model_selection import train_test_split\n",
    "import matplotlib.pyplot as plt\n",
    "\n",
    "# Load the knowledge graph CSV\n",
    "kg_df = pd.read_csv('knowledge_graph_movies.csv')\n",
    "\n",
    "# Ensure the 'head', 'relation', and 'tail' columns are of categorical type\n",
    "kg_df['head'] = kg_df['head'].astype('category')\n",
    "kg_df['relation'] = kg_df['relation'].astype('category')\n",
    "kg_df['tail'] = kg_df['tail'].astype('category')\n",
    "\n",
    "# Convert entities and relations to categorical codes\n",
    "head_codes = kg_df['head'].cat.codes\n",
    "relation_codes = kg_df['relation'].cat.codes\n",
    "tail_codes = kg_df['tail'].cat.codes\n",
    "\n",
    "# Extract relevant tensors for KGAT\n",
    "heads = torch.tensor(head_codes.values, dtype=torch.long)\n",
    "relations = torch.tensor(relation_codes.values, dtype=torch.long)\n",
    "tails = torch.tensor(tail_codes.values, dtype=torch.long)\n",
    "\n",
    "# Split the data into training, validation, and testing datasets\n",
    "heads_train, heads_temp, relations_train, relations_temp, tails_train, tails_temp = train_test_split(\n",
    "    heads, relations, tails, test_size=0.4, random_state=42)\n",
    "\n",
    "heads_val, heads_test, relations_val, relations_test, tails_val, tails_test = train_test_split(\n",
    "    heads_temp, relations_temp, tails_temp, test_size=0.5, random_state=42)\n",
    "\n",
    "# Check the size of each split\n",
    "print(f\"Training size: {len(heads_train)}, Validation size: {len(heads_val)}, Testing size: {len(heads_test)}\")"
   ]
  },
  {
   "cell_type": "code",
   "execution_count": 2,
   "id": "9fc2dab7",
   "metadata": {},
   "outputs": [
    {
     "name": "stdout",
     "output_type": "stream",
     "text": [
      "Percentage of 1s: 97.24%\n"
     ]
    }
   ],
   "source": [
    "def percentage_of_ones(tensor):\n",
    "    # Count the number of 1s\n",
    "    num_ones = torch.sum(tensor == 1).item()\n",
    "    \n",
    "    # Calculate the total number of elements\n",
    "    total_elements = tensor.numel()\n",
    "    \n",
    "    # Calculate the percentage of 1s\n",
    "    percentage = (num_ones / total_elements) * 100\n",
    "    \n",
    "    return percentage\n",
    "\n",
    "# Example usage\n",
    "percentage = percentage_of_ones(relations_test)\n",
    "print(f\"Percentage of 1s: {percentage:.2f}%\")"
   ]
  },
  {
   "cell_type": "code",
   "execution_count": 3,
   "id": "2ed95c84",
   "metadata": {},
   "outputs": [],
   "source": [
    "def create_batches(heads, relations, tails, batch_size):\n",
    "    num_batches = len(heads) // batch_size\n",
    "    for i in range(num_batches):\n",
    "        yield (heads[i * batch_size:(i + 1) * batch_size],\n",
    "               relations[i * batch_size:(i + 1) * batch_size],\n",
    "               tails[i * batch_size:(i + 1) * batch_size])\n",
    "    \n",
    "    if len(heads) % batch_size != 0:\n",
    "        yield (heads[num_batches * batch_size:],\n",
    "               relations[num_batches * batch_size:],\n",
    "               tails[num_batches * batch_size:])"
   ]
  },
  {
   "cell_type": "markdown",
   "id": "09b1b40d",
   "metadata": {},
   "source": [
    "## Simplified KGAT Model"
   ]
  },
  {
   "cell_type": "code",
   "execution_count": 27,
   "id": "f6574675",
   "metadata": {},
   "outputs": [],
   "source": [
    "import torch.nn as nn\n",
    "\n",
    "class SimplifiedKGAT(nn.Module):\n",
    "    def __init__(self, num_entities, num_relations, embedding_dim):\n",
    "        super(SimplifiedKGAT, self).__init__()\n",
    "        self.entity_embedding = nn.Embedding(num_entities, embedding_dim)\n",
    "        self.relation_embedding = nn.Embedding(num_relations, embedding_dim)\n",
    "        self.linear1 = nn.Linear(embedding_dim, embedding_dim)\n",
    "        self.linear2 = nn.Linear(embedding_dim, embedding_dim)\n",
    "        self.attention = nn.Linear(embedding_dim * 2, 1)\n",
    "\n",
    "    def forward(self, heads, relations, tails, negative_tails=None):\n",
    "        head_emb = self.entity_embedding(heads)\n",
    "        relation_emb = self.relation_embedding(relations)\n",
    "        tail_emb = self.entity_embedding(tails)\n",
    "\n",
    "        # Compute scores for positive samples\n",
    "        pos_score = self.calculate_score(head_emb, relation_emb, tail_emb)\n",
    "\n",
    "        if negative_tails is not None:\n",
    "            negative_tail_emb = self.entity_embedding(negative_tails)\n",
    "            # Compute scores for negative samples\n",
    "            neg_score = self.calculate_score(head_emb, relation_emb, negative_tail_emb)\n",
    "            return pos_score, neg_score\n",
    "\n",
    "        return pos_score\n",
    "\n",
    "    def calculate_score(self, head_emb, relation_emb, tail_emb):\n",
    "        combined = torch.cat([head_emb, relation_emb], dim=-1)\n",
    "        attention_weights = torch.sigmoid(self.attention(combined))\n",
    "\n",
    "        # Adding more complexity with additional layers\n",
    "        x = attention_weights * head_emb + (1 - attention_weights) * relation_emb\n",
    "        x = self.linear1(x)\n",
    "        x = torch.relu(x)\n",
    "        x = self.linear2(x)\n",
    "        x = torch.relu(x)\n",
    "        score = torch.sum(x * tail_emb, dim=-1)\n",
    "        return score\n"
   ]
  },
  {
   "cell_type": "markdown",
   "id": "cc393257",
   "metadata": {},
   "source": [
    "#### Integerate MarginRankingLoss"
   ]
  },
  {
   "cell_type": "code",
   "execution_count": 28,
   "id": "ea29f2b3",
   "metadata": {},
   "outputs": [],
   "source": [
    "import torch.nn.functional as F\n",
    "\n",
    "class MarginRankingLoss(nn.Module):\n",
    "    def __init__(self, margin=1.0):\n",
    "        super(MarginRankingLoss, self).__init__()\n",
    "        self.margin = margin\n",
    "\n",
    "    def forward(self, pos_score, neg_score):\n",
    "        # Margin-based ranking loss\n",
    "        loss = F.relu(self.margin - pos_score + neg_score).mean()\n",
    "        return loss"
   ]
  },
  {
   "cell_type": "markdown",
   "id": "006464bf",
   "metadata": {},
   "source": [
    "## Model Training with Validation"
   ]
  },
  {
   "cell_type": "code",
   "execution_count": 29,
   "id": "2dbe9664",
   "metadata": {},
   "outputs": [
    {
     "name": "stdout",
     "output_type": "stream",
     "text": [
      "Epoch 1, Train Loss: 0.8512, Val Loss: 0.7358\n",
      "Epoch 2, Train Loss: 0.6267, Val Loss: 0.5478\n",
      "Epoch 3, Train Loss: 0.4590, Val Loss: 0.4117\n",
      "Epoch 4, Train Loss: 0.3568, Val Loss: 0.3267\n",
      "Epoch 5, Train Loss: 0.2827, Val Loss: 0.2759\n",
      "Epoch 6, Train Loss: 0.2460, Val Loss: 0.2420\n",
      "Epoch 7, Train Loss: 0.2200, Val Loss: 0.2160\n",
      "Epoch 8, Train Loss: 0.1984, Val Loss: 0.2138\n",
      "Epoch 9, Train Loss: 0.1929, Val Loss: 0.1976\n",
      "Epoch 10, Train Loss: 0.1847, Val Loss: 0.1895\n",
      "Epoch 11, Train Loss: 0.1796, Val Loss: 0.1935\n",
      "Epoch 12, Train Loss: 0.1774, Val Loss: 0.1841\n",
      "Epoch 13, Train Loss: 0.1747, Val Loss: 0.1848\n",
      "Epoch 14, Train Loss: 0.1745, Val Loss: 0.1874\n",
      "Epoch 15, Train Loss: 0.1698, Val Loss: 0.1784\n",
      "Epoch 16, Train Loss: 0.1713, Val Loss: 0.1827\n",
      "Epoch 17, Train Loss: 0.1701, Val Loss: 0.1792\n",
      "Epoch 18, Train Loss: 0.1738, Val Loss: 0.1804\n",
      "Epoch 19, Train Loss: 0.1690, Val Loss: 0.1754\n",
      "Epoch 20, Train Loss: 0.1652, Val Loss: 0.1773\n",
      "Epoch 21, Train Loss: 0.1679, Val Loss: 0.1765\n",
      "Epoch 22, Train Loss: 0.1700, Val Loss: 0.1780\n",
      "Epoch 23, Train Loss: 0.1654, Val Loss: 0.1762\n",
      "Epoch 24, Train Loss: 0.1635, Val Loss: 0.1829\n",
      "Epoch 25, Train Loss: 0.1650, Val Loss: 0.1798\n",
      "Epoch 26, Train Loss: 0.1664, Val Loss: 0.1768\n",
      "Epoch 27, Train Loss: 0.1681, Val Loss: 0.1784\n",
      "Epoch 28, Train Loss: 0.1680, Val Loss: 0.1800\n",
      "Epoch 29, Train Loss: 0.1665, Val Loss: 0.1766\n",
      "Epoch 30, Train Loss: 0.1659, Val Loss: 0.1752\n",
      "Epoch 31, Train Loss: 0.1679, Val Loss: 0.1740\n",
      "Epoch 32, Train Loss: 0.1707, Val Loss: 0.1719\n",
      "Epoch 33, Train Loss: 0.1641, Val Loss: 0.1731\n",
      "Epoch 34, Train Loss: 0.1608, Val Loss: 0.1753\n",
      "Epoch 35, Train Loss: 0.1690, Val Loss: 0.1746\n",
      "Epoch 36, Train Loss: 0.1650, Val Loss: 0.1738\n",
      "Epoch 37, Train Loss: 0.1645, Val Loss: 0.1749\n",
      "Epoch 38, Train Loss: 0.1672, Val Loss: 0.1737\n",
      "Epoch 39, Train Loss: 0.1641, Val Loss: 0.1735\n",
      "Epoch 40, Train Loss: 0.1650, Val Loss: 0.1758\n",
      "Epoch 41, Train Loss: 0.1646, Val Loss: 0.1766\n",
      "Epoch 42, Train Loss: 0.1621, Val Loss: 0.1764\n",
      "Epoch 43, Train Loss: 0.1660, Val Loss: 0.1764\n",
      "Epoch 44, Train Loss: 0.1667, Val Loss: 0.1763\n",
      "Epoch 45, Train Loss: 0.1637, Val Loss: 0.1767\n",
      "Epoch 46, Train Loss: 0.1635, Val Loss: 0.1732\n",
      "Epoch 47, Train Loss: 0.1622, Val Loss: 0.1785\n",
      "Epoch 48, Train Loss: 0.1600, Val Loss: 0.1728\n",
      "Epoch 49, Train Loss: 0.1636, Val Loss: 0.1778\n",
      "Epoch 50, Train Loss: 0.1617, Val Loss: 0.1806\n",
      "Epoch 51, Train Loss: 0.1637, Val Loss: 0.1775\n",
      "Epoch 52, Train Loss: 0.1604, Val Loss: 0.1741\n",
      "Epoch 53, Train Loss: 0.1638, Val Loss: 0.1758\n",
      "Epoch 54, Train Loss: 0.1642, Val Loss: 0.1733\n",
      "Epoch 55, Train Loss: 0.1617, Val Loss: 0.1760\n",
      "Epoch 56, Train Loss: 0.1646, Val Loss: 0.1804\n",
      "Epoch 57, Train Loss: 0.1635, Val Loss: 0.1790\n",
      "Epoch 58, Train Loss: 0.1656, Val Loss: 0.1762\n",
      "Epoch 59, Train Loss: 0.1645, Val Loss: 0.1745\n",
      "Epoch 60, Train Loss: 0.1617, Val Loss: 0.1732\n",
      "Epoch 61, Train Loss: 0.1613, Val Loss: 0.1749\n",
      "Epoch 62, Train Loss: 0.1616, Val Loss: 0.1801\n",
      "Epoch 63, Train Loss: 0.1651, Val Loss: 0.1878\n",
      "Epoch 64, Train Loss: 0.1623, Val Loss: 0.1813\n",
      "Epoch 65, Train Loss: 0.1607, Val Loss: 0.1776\n",
      "Epoch 66, Train Loss: 0.1617, Val Loss: 0.1859\n",
      "Epoch 67, Train Loss: 0.1620, Val Loss: 0.1796\n",
      "Epoch 68, Train Loss: 0.1616, Val Loss: 0.1811\n",
      "Epoch 69, Train Loss: 0.1656, Val Loss: 0.1762\n",
      "Epoch 70, Train Loss: 0.1611, Val Loss: 0.1767\n",
      "Epoch 71, Train Loss: 0.1579, Val Loss: 0.1750\n",
      "Epoch 72, Train Loss: 0.1610, Val Loss: 0.1771\n",
      "Epoch 73, Train Loss: 0.1629, Val Loss: 0.1820\n",
      "Epoch 74, Train Loss: 0.1593, Val Loss: 0.1739\n",
      "Epoch 75, Train Loss: 0.1601, Val Loss: 0.1800\n",
      "Epoch 76, Train Loss: 0.1627, Val Loss: 0.1737\n",
      "Epoch 77, Train Loss: 0.1589, Val Loss: 0.1812\n",
      "Epoch 78, Train Loss: 0.1606, Val Loss: 0.1807\n",
      "Epoch 79, Train Loss: 0.1585, Val Loss: 0.1766\n",
      "Epoch 80, Train Loss: 0.1624, Val Loss: 0.1731\n",
      "Epoch 81, Train Loss: 0.1602, Val Loss: 0.1742\n",
      "Epoch 82, Train Loss: 0.1621, Val Loss: 0.1831\n",
      "Epoch 83, Train Loss: 0.1631, Val Loss: 0.1798\n",
      "Epoch 84, Train Loss: 0.1621, Val Loss: 0.1782\n",
      "Epoch 85, Train Loss: 0.1591, Val Loss: 0.1775\n",
      "Epoch 86, Train Loss: 0.1611, Val Loss: 0.1761\n",
      "Epoch 87, Train Loss: 0.1594, Val Loss: 0.1796\n",
      "Epoch 88, Train Loss: 0.1591, Val Loss: 0.1732\n",
      "Epoch 89, Train Loss: 0.1610, Val Loss: 0.1767\n",
      "Epoch 90, Train Loss: 0.1588, Val Loss: 0.1784\n",
      "Epoch 91, Train Loss: 0.1616, Val Loss: 0.1781\n",
      "Epoch 92, Train Loss: 0.1617, Val Loss: 0.1764\n",
      "Epoch 93, Train Loss: 0.1598, Val Loss: 0.1794\n",
      "Epoch 94, Train Loss: 0.1599, Val Loss: 0.1771\n",
      "Epoch 95, Train Loss: 0.1590, Val Loss: 0.1748\n",
      "Epoch 96, Train Loss: 0.1593, Val Loss: 0.1805\n",
      "Epoch 97, Train Loss: 0.1600, Val Loss: 0.1865\n",
      "Epoch 98, Train Loss: 0.1602, Val Loss: 0.1786\n",
      "Epoch 99, Train Loss: 0.1571, Val Loss: 0.1829\n",
      "Epoch 100, Train Loss: 0.1594, Val Loss: 0.1777\n"
     ]
    }
   ],
   "source": [
    "# Instantiate the simplified model\n",
    "embedding_dim = 100  # Adjust as necessary\n",
    "num_entities = len(kg_df['head'].cat.categories) + len(kg_df['tail'].cat.categories)\n",
    "num_relations = len(kg_df['relation'].cat.categories)\n",
    "kgat_model = SimplifiedKGAT(num_entities, num_relations, embedding_dim)\n",
    "\n",
    "def train_kgat_with_validation(model, heads_train, relations_train, tails_train, \n",
    "                               heads_val, relations_val, tails_val, \n",
    "                               epochs=10, batch_size=512, lr=0.001):\n",
    "    optimizer = torch.optim.Adam(model.parameters(), lr=lr)\n",
    "    criterion = MarginRankingLoss(margin=1.0)  # Using MarginRankingLoss\n",
    "    train_loss_values = []\n",
    "    val_loss_values = []\n",
    "\n",
    "    for epoch in range(epochs):\n",
    "        model.train()\n",
    "        train_batch_losses = []\n",
    "        for batch_heads, batch_relations, batch_tails in create_batches(heads_train, relations_train, tails_train, batch_size):\n",
    "            optimizer.zero_grad()\n",
    "\n",
    "            # Generate negative samples by randomly corrupting the tail\n",
    "            negative_tails_batch = torch.randint(0, num_entities, batch_tails.size(), device=batch_tails.device)\n",
    "\n",
    "            # Forward pass for both positive and negative samples\n",
    "            pos_score = model(batch_heads, batch_relations, batch_tails)\n",
    "            neg_score = model(batch_heads, batch_relations, negative_tails_batch)\n",
    "\n",
    "            # Apply margin-based ranking loss\n",
    "            loss = criterion(pos_score, neg_score)\n",
    "\n",
    "            loss.backward()\n",
    "            optimizer.step()\n",
    "\n",
    "            train_batch_losses.append(loss.item())\n",
    "\n",
    "        # Store the average loss for this epoch\n",
    "        avg_train_loss = sum(train_batch_losses) / len(train_batch_losses)\n",
    "        train_loss_values.append(avg_train_loss)\n",
    "\n",
    "        # Validation phase\n",
    "        model.eval()\n",
    "        with torch.no_grad():\n",
    "            val_batch_losses = []\n",
    "            for batch_heads, batch_relations, batch_tails in create_batches(heads_val, relations_val, tails_val, batch_size):\n",
    "                negative_tails_batch = torch.randint(0, num_entities, batch_tails.size(), device=batch_tails.device)\n",
    "                \n",
    "                pos_score = model(batch_heads, batch_relations, batch_tails)\n",
    "                neg_score = model(batch_heads, batch_relations, negative_tails_batch)\n",
    "                \n",
    "                loss = criterion(pos_score, neg_score)\n",
    "                val_batch_losses.append(loss.item())\n",
    "\n",
    "        avg_val_loss = sum(val_batch_losses) / len(val_batch_losses)\n",
    "        val_loss_values.append(avg_val_loss)\n",
    "\n",
    "        if (epoch + 1) % 1 == 0:\n",
    "            print(f'Epoch {epoch + 1}, Train Loss: {avg_train_loss:.4f}, Val Loss: {avg_val_loss:.4f}')\n",
    "\n",
    "    return train_loss_values, val_loss_values\n",
    "\n",
    "# Train the model with training and validation loss tracking\n",
    "train_loss_values, val_loss_values = train_kgat_with_validation(\n",
    "    kgat_model, heads_train, relations_train, tails_train,\n",
    "    heads_val, relations_val, tails_val, epochs=100, batch_size=256)"
   ]
  },
  {
   "cell_type": "code",
   "execution_count": 8,
   "id": "3c1c6512",
   "metadata": {},
   "outputs": [],
   "source": [
    "def plot_loss_curve(train_loss_values, val_loss_values):\n",
    "    # Plot the training and validation loss curves\n",
    "    plt.plot(train_loss_values, label='Training Loss')\n",
    "    plt.plot(val_loss_values, label='Validation Loss')\n",
    "    plt.xlabel('Epoch')\n",
    "    plt.ylabel('Loss')\n",
    "    plt.title('Training and Validation Loss Curve')\n",
    "    plt.legend()\n",
    "    plt.show()"
   ]
  },
  {
   "cell_type": "code",
   "execution_count": 30,
   "id": "3a56821f",
   "metadata": {},
   "outputs": [
    {
     "data": {
      "image/png": "[encoded data removed]",
      "text/plain": [
       "<Figure size 640x480 with 1 Axes>"
      ]
     },
     "metadata": {},
     "output_type": "display_data"
    }
   ],
   "source": [
    "# Plot the loss curves\n",
    "plot_loss_curve(train_loss_values, val_loss_values)"
   ]
  },
  {
   "cell_type": "code",
   "execution_count": 10,
   "id": "81b3073b",
   "metadata": {},
   "outputs": [],
   "source": [
    "def predict(model, heads, relations, tails, k=10):\n",
    "    model.eval()\n",
    "    with torch.no_grad():\n",
    "        num_entities = model.entity_embedding.num_embeddings\n",
    "        all_tails = torch.arange(num_entities, device=heads.device)\n",
    "        \n",
    "        scores = []\n",
    "        for head, relation in zip(heads, relations):\n",
    "            head = head.unsqueeze(0).repeat(num_entities)\n",
    "            relation = relation.unsqueeze(0).repeat(num_entities)\n",
    "            score = model(head, relation, all_tails)\n",
    "            scores.append(score)\n",
    "        \n",
    "        scores = torch.stack(scores, dim=0)\n",
    "        _, top_k_indices = torch.topk(scores, k, dim=1)\n",
    "        \n",
    "    return scores, top_k_indices"
   ]
  },
  {
   "cell_type": "code",
   "execution_count": 11,
   "id": "d8aecc70",
   "metadata": {},
   "outputs": [],
   "source": [
    "import numpy as np"
   ]
  },
  {
   "cell_type": "code",
   "execution_count": 12,
   "id": "cfd96650",
   "metadata": {},
   "outputs": [],
   "source": [
    "def evaluate(model, heads, relations, tails, k=10):\n",
    "    model.eval()\n",
    "    hr, ndcg = [], []\n",
    "\n",
    "    with torch.no_grad():\n",
    "        scores, top_k_indices = predict(model, heads, relations, tails, k)\n",
    "        \n",
    "        for i in range(len(heads)):\n",
    "            tail = tails[i]\n",
    "            top_k = top_k_indices[i]\n",
    "            \n",
    "            if tail in top_k:\n",
    "                hr.append(1)\n",
    "                rank_indices = (top_k == tail).nonzero(as_tuple=True)[0]\n",
    "                if len(rank_indices) > 0:  # Check if there is at least one match\n",
    "                    rank = rank_indices[0].item()  # Take the first occurrence\n",
    "                    ndcg.append(1.0 / np.log2(rank + 2))\n",
    "                else:\n",
    "                    ndcg.append(0)\n",
    "            else:\n",
    "                hr.append(0)\n",
    "                ndcg.append(0)\n",
    "    \n",
    "    mean_hr = np.mean(hr)\n",
    "    mean_ndcg = np.mean(ndcg)\n",
    "    \n",
    "    return mean_hr, mean_ndcg\n"
   ]
  },
  {
   "cell_type": "code",
   "execution_count": 13,
   "id": "3e4fa2d1",
   "metadata": {},
   "outputs": [],
   "source": [
    "def custom_inspect_predictions(model, heads, relations, tails, k=10):\n",
    "    scores, top_k_indices = predict(model, heads, relations, tails, k)\n",
    "    \n",
    "    for i in range(min(5, len(heads))):  # Inspect the first 5 samples\n",
    "        print(f\"User {i+1}:\")\n",
    "        print(f\"  Actual Item: {tails[i].item()}\")\n",
    "        print(f\"  Top-{k} Predictions: {top_k_indices[i].cpu().numpy().tolist()}\")\n",
    "        print(f\"  Scores: {scores[i][top_k_indices[i]].cpu().numpy().tolist()}\")\n",
    "        print(\"-\" * 50)\n"
   ]
  },
  {
   "cell_type": "code",
   "execution_count": 14,
   "id": "4acc6fab",
   "metadata": {},
   "outputs": [],
   "source": [
    "scores, top_k_predictions = predict(kgat_model, heads_test, relations_test, tails_test, k=10)"
   ]
  },
  {
   "cell_type": "code",
   "execution_count": 31,
   "id": "773bc180",
   "metadata": {},
   "outputs": [
    {
     "name": "stdout",
     "output_type": "stream",
     "text": [
      "Mean HR@20: 0.09820690995675203\n",
      "Mean NDCG@20: 0.040510786601418415\n"
     ]
    }
   ],
   "source": [
    "k = 20\n",
    "\n",
    "mean_hr, mean_ndcg = evaluate(kgat_model, heads_test, relations_test, tails_test, k)\n",
    "print(f\"Mean HR@{k}: {mean_hr}\")\n",
    "print(f\"Mean NDCG@{k}: {mean_ndcg}\")"
   ]
  },
  {
   "cell_type": "code",
   "execution_count": 17,
   "id": "b8fafb21",
   "metadata": {},
   "outputs": [
    {
     "name": "stdout",
     "output_type": "stream",
     "text": [
      "User 1:\n",
      "  Actual Item: 1\n",
      "  Top-20 Predictions: [1497, 142, 3047, 895, 954, 828, 187, 178, 863, 664, 1102, 269, 518, 1290, 497, 1251, 1428, 3242, 1316, 469]\n",
      "  Scores: [22.653100967407227, 19.926740646362305, 19.3447208404541, 19.29116439819336, 18.469179153442383, 17.821346282958984, 17.747833251953125, 17.607091903686523, 17.554122924804688, 17.448287963867188, 17.427156448364258, 17.141706466674805, 16.894948959350586, 16.60790252685547, 16.27436065673828, 16.254085540771484, 16.1697940826416, 16.017614364624023, 15.827733993530273, 15.519835472106934]\n",
      "--------------------------------------------------\n",
      "User 2:\n",
      "  Actual Item: 804\n",
      "  Top-20 Predictions: [3363, 1118, 1672, 2991, 627, 894, 4158, 1046, 2656, 4153, 888, 1478, 1284, 462, 51, 38, 1320, 94, 3330, 2418]\n",
      "  Scores: [20.025468826293945, 20.024585723876953, 19.986034393310547, 19.598583221435547, 18.3937931060791, 18.310665130615234, 18.18738555908203, 18.120004653930664, 17.149158477783203, 16.987445831298828, 16.732711791992188, 16.626571655273438, 16.623390197753906, 16.583232879638672, 16.579376220703125, 16.448326110839844, 16.389883041381836, 16.330810546875, 16.292274475097656, 16.265893936157227]\n",
      "--------------------------------------------------\n",
      "User 3:\n",
      "  Actual Item: 948\n",
      "  Top-20 Predictions: [1118, 1672, 3363, 2991, 894, 627, 1046, 4158, 2656, 4153, 888, 1478, 462, 1284, 51, 1320, 38, 94, 3330, 2418]\n",
      "  Scores: [19.89969253540039, 19.799850463867188, 19.795194625854492, 19.424320220947266, 18.31148338317871, 18.197330474853516, 18.097633361816406, 18.035457611083984, 17.09054183959961, 16.78615951538086, 16.690582275390625, 16.584707260131836, 16.55133819580078, 16.488893508911133, 16.478883743286133, 16.343143463134766, 16.340145111083984, 16.232370376586914, 16.167797088623047, 16.158966064453125]\n",
      "--------------------------------------------------\n",
      "User 4:\n",
      "  Actual Item: 807\n",
      "  Top-20 Predictions: [3363, 1118, 1672, 2991, 627, 894, 4158, 1046, 2656, 4153, 888, 1478, 1284, 462, 51, 38, 1320, 94, 3330, 2418]\n",
      "  Scores: [20.628211975097656, 20.627819061279297, 20.58780288696289, 20.18872833251953, 18.947500228881836, 18.86283302307129, 18.735084533691406, 18.666309356689453, 17.6660099029541, 17.498720169067383, 17.237085342407227, 17.12774658203125, 17.124011993408203, 17.083148956298828, 17.078838348388672, 16.94379997253418, 16.883895874023438, 16.82278823852539, 16.782958984375, 16.75587272644043]\n",
      "--------------------------------------------------\n",
      "User 5:\n",
      "  Actual Item: 783\n",
      "  Top-20 Predictions: [3363, 1118, 1672, 2991, 627, 894, 4158, 1046, 2656, 4153, 888, 1284, 1478, 51, 462, 38, 1320, 94, 3330, 2418]\n",
      "  Scores: [21.17400360107422, 21.147844314575195, 21.12186050415039, 20.71040153503418, 19.44514274597168, 19.310253143310547, 19.21680450439453, 19.114730834960938, 18.09955406188965, 17.96316146850586, 17.656421661376953, 17.56324005126953, 17.544422149658203, 17.508682250976562, 17.49633026123047, 17.372318267822266, 17.295976638793945, 17.246055603027344, 17.211645126342773, 17.179624557495117]\n",
      "--------------------------------------------------\n"
     ]
    }
   ],
   "source": [
    "custom_inspect_predictions(kgat_model, heads_test, relations_test, tails_test, k)"
   ]
  },
  {
   "cell_type": "code",
   "execution_count": 23,
   "id": "b2ca55db",
   "metadata": {},
   "outputs": [
    {
     "name": "stdout",
     "output_type": "stream",
     "text": [
      "Training HR@20: 0.1046\n",
      "Training NDCG@20: 0.0436\n"
     ]
    }
   ],
   "source": [
    "# Assuming you have already defined the following:\n",
    "# heads_train, relations_train, tails_train -> Training dataset\n",
    "# heads_val, relations_val, tails_val -> Validation dataset\n",
    "# k -> The value of k used for evaluation\n",
    "\n",
    "# Evaluate on the Training Dataset\n",
    "train_hr, train_ndcg = evaluate(kgat_model, heads_train, relations_train, tails_train, k=k)\n",
    "print(f\"Training HR@{k}: {train_hr:.4f}\")\n",
    "print(f\"Training NDCG@{k}: {train_ndcg:.4f}\")"
   ]
  },
  {
   "cell_type": "code",
   "execution_count": 67,
   "id": "9ed1c059",
   "metadata": {},
   "outputs": [
    {
     "name": "stdout",
     "output_type": "stream",
     "text": [
      "User 1:\n",
      "  Actual Item: 1033\n",
      "  Top-20 Predictions: [1146, 908, 877, 910, 917, 1367, 1678, 20, 319, 253, 792, 1212, 838, 18, 1467, 807, 782, 784, 1578, 897]\n",
      "  Scores: [3.6349291801452637, 3.550260543823242, 3.5220212936401367, 3.4643359184265137, 3.458406448364258, 3.4355931282043457, 3.416128158569336, 3.386686086654663, 3.383267879486084, 3.3628807067871094, 3.3624935150146484, 3.335587501525879, 3.3068008422851562, 3.301109790802002, 3.3010854721069336, 3.300210952758789, 3.2917699813842773, 3.2904887199401855, 3.2839088439941406, 3.272402286529541]\n",
      "--------------------------------------------------\n",
      "User 2:\n",
      "  Actual Item: 818\n",
      "  Top-20 Predictions: [1146, 917, 1367, 908, 910, 792, 897, 253, 1467, 319, 877, 1212, 20, 782, 825, 1678, 807, 1061, 1041, 925]\n",
      "  Scores: [3.2089293003082275, 3.146122932434082, 3.10410737991333, 3.0624663829803467, 3.0547683238983154, 3.0137033462524414, 3.01314115524292, 2.9992856979370117, 2.9933953285217285, 2.989582061767578, 2.9774134159088135, 2.975503921508789, 2.963702917098999, 2.9435548782348633, 2.942765235900879, 2.9413504600524902, 2.917649269104004, 2.910820484161377, 2.8988053798675537, 2.862679958343506]\n",
      "--------------------------------------------------\n",
      "User 3:\n",
      "  Actual Item: 792\n",
      "  Top-20 Predictions: [1146, 908, 877, 917, 910, 1367, 1678, 20, 319, 253, 792, 1212, 807, 1467, 838, 18, 782, 897, 784, 1578]\n",
      "  Scores: [3.643232822418213, 3.5586445331573486, 3.5242276191711426, 3.471283435821533, 3.470259666442871, 3.4426417350769043, 3.4212427139282227, 3.3911328315734863, 3.390002965927124, 3.372645378112793, 3.366546630859375, 3.3432135581970215, 3.3138315677642822, 3.3113574981689453, 3.3087642192840576, 3.301978588104248, 3.297323226928711, 3.2899322509765625, 3.2889468669891357, 3.2885541915893555]\n",
      "--------------------------------------------------\n",
      "User 4:\n",
      "  Actual Item: 253\n",
      "  Top-20 Predictions: [1146, 877, 908, 910, 1367, 917, 1678, 20, 319, 792, 253, 1212, 784, 838, 18, 782, 1578, 1467, 927, 807]\n",
      "  Scores: [3.603073835372925, 3.517380714416504, 3.5164217948913574, 3.443706512451172, 3.41078782081604, 3.4053773880004883, 3.398005247116089, 3.372706890106201, 3.3585658073425293, 3.3517603874206543, 3.3237409591674805, 3.306917190551758, 3.3047873973846436, 3.3041319847106934, 3.302772045135498, 3.273326873779297, 3.265721321105957, 3.2602267265319824, 3.257659435272217, 3.241422653198242]\n",
      "--------------------------------------------------\n",
      "User 5:\n",
      "  Actual Item: 1234\n",
      "  Top-20 Predictions: [1146, 908, 877, 910, 917, 1367, 1678, 20, 319, 792, 253, 1212, 1467, 838, 782, 807, 18, 784, 897, 1578]\n",
      "  Scores: [3.717306613922119, 3.6230642795562744, 3.592647075653076, 3.544008493423462, 3.542612075805664, 3.521454334259033, 3.4878909587860107, 3.463261842727661, 3.4609994888305664, 3.44618821144104, 3.440659284591675, 3.414377212524414, 3.3820157051086426, 3.379441976547241, 3.3717832565307617, 3.3707618713378906, 3.3688106536865234, 3.3640637397766113, 3.35172700881958, 3.3417224884033203]\n",
      "--------------------------------------------------\n"
     ]
    }
   ],
   "source": [
    "custom_inspect_predictions(kgat_model, heads_train, relations_train, tails_train, k)"
   ]
  },
  {
   "cell_type": "markdown",
   "id": "b60c5f4e",
   "metadata": {},
   "source": [
    "## Conclusion\n",
    "This notebook combines the key steps of data loading, model training, validation, and evaluation for the KGAT model."
   ]
  }
 ],
 "metadata": {
  "kernelspec": {
   "display_name": "Python 3",
   "language": "python",
   "name": "python3"
  },
  "language_info": {
   "codemirror_mode": {
    "name": "ipython",
    "version": 3
   },
   "file_extension": ".py",
   "mimetype": "text/x-python",
   "name": "python",
   "nbconvert_exporter": "python",
   "pygments_lexer": "ipython3",
   "version": "3.10.10"
  }
 },
 "nbformat": 4,
 "nbformat_minor": 5
}
